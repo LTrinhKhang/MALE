{
  "cells": [
    {
      "cell_type": "markdown",
      "metadata": {
        "id": "fFOrPHavxUWu"
      },
      "source": [
        "CHAPTER 4: Handling Numerical Data (Xử lí dữ liệu số)"
      ]
    },
    {
      "cell_type": "code",
      "execution_count": null,
      "metadata": {
        "id": "2DevatHQxUW0",
        "outputId": "a1964800-afa8-4bb7-c6f5-4dda505613c3"
      },
      "outputs": [
        {
          "data": {
            "text/plain": [
              "array([[0.        ],\n",
              "       [0.28571429],\n",
              "       [0.35714286],\n",
              "       [0.42857143],\n",
              "       [1.        ]])"
            ]
          },
          "execution_count": 1,
          "metadata": {},
          "output_type": "execute_result"
        }
      ],
      "source": [
        "# Use scikit-learn’s MinMaxScaler to rescale a feature array (Sử dụng MinMaxScaler của scikit-learn để định cỡ lại một mảng tính năng)\n",
        "\n",
        "#4.1 Rescaling a Feature\n",
        "\n",
        "# Load libraries\n",
        "import numpy as np\n",
        "from sklearn import preprocessing\n",
        "# Create feature\n",
        "feature = np.array([[-500.5],\n",
        "[-100.1],\n",
        "[0],\n",
        "[100.1],\n",
        "[900.9]])\n",
        "# Create scaler\n",
        "minmax_scale = preprocessing.MinMaxScaler(feature_range=(0, 1))\n",
        "# Scale feature\n",
        "scaled_feature = minmax_scale.fit_transform(feature)\n",
        "# Show feature\n",
        "scaled_feature"
      ]
    },
    {
      "cell_type": "code",
      "execution_count": null,
      "metadata": {
        "id": "OfCZJxTUxUW3",
        "outputId": "89e03dcc-2ad2-4aa2-a84c-a9e2b5715cfe"
      },
      "outputs": [
        {
          "data": {
            "text/plain": [
              "array([[-0.76058269],\n",
              "       [-0.54177196],\n",
              "       [-0.35009716],\n",
              "       [-0.32271504],\n",
              "       [ 1.97516685]])"
            ]
          },
          "execution_count": 2,
          "metadata": {},
          "output_type": "execute_result"
        }
      ],
      "source": [
        "# Standardizing a Feature (Tiêu chuẩn hóa 1 tính năng)\n",
        "# Load libraries\n",
        "import numpy as np\n",
        "from sklearn import preprocessing\n",
        "# Create feature\n",
        "x = np.array([[-1000.1],\n",
        "[-200.2],\n",
        "[500.5],\n",
        "[600.6],\n",
        "[9000.9]])\n",
        "# Create scaler\n",
        "scaler = preprocessing.StandardScaler()\n",
        "# Transform the feature\n",
        "standardized = scaler.fit_transform(x)\n",
        "# Show feature\n",
        "standardized"
      ]
    },
    {
      "cell_type": "code",
      "execution_count": null,
      "metadata": {
        "id": "nnHhCFpKxUW4",
        "outputId": "60e894ff-4d16-4377-a889-84df12823ec9"
      },
      "outputs": [
        {
          "name": "stdout",
          "output_type": "stream",
          "text": [
            "Mean: 0\n",
            "Standard deviation: 1.0\n"
          ]
        }
      ],
      "source": [
        "# We can see the effect of standardization by looking at the mean and standard deviation of our solution’s output:\n",
        "# Print mean and standard deviation\n",
        "print(\"Mean:\", round(standardized.mean()))\n",
        "print(\"Standard deviation:\", standardized.std())"
      ]
    },
    {
      "cell_type": "code",
      "execution_count": null,
      "metadata": {
        "id": "_yaGq4HKxUW4",
        "outputId": "4e08130a-e9b9-4e0a-8fcf-f0367b041fe2"
      },
      "outputs": [
        {
          "data": {
            "text/plain": [
              "array([[-1.87387612],\n",
              "       [-0.875     ],\n",
              "       [ 0.        ],\n",
              "       [ 0.125     ],\n",
              "       [10.61488511]])"
            ]
          },
          "execution_count": 4,
          "metadata": {},
          "output_type": "execute_result"
        }
      ],
      "source": [
        "# If our data has significant outliers, it can negatively impact our standardization byaffecting the feature’s mean and variance.\n",
        "# -> Rescale the feature using the median and quartile range. -> RobustScaler method:\n",
        "\n",
        "# Create scaler\n",
        "robust_scaler = preprocessing.RobustScaler()\n",
        "# Transform feature\n",
        "robust_scaler.fit_transform(x)"
      ]
    },
    {
      "cell_type": "code",
      "source": [
        "#4.2 Standardizing a Feature\n",
        "# Load libraries\n",
        "import numpy as np\n",
        "from sklearn import preprocessing\n",
        "# Create feature\n",
        "x=np.array([[-1000.1],[-200.2],[500.5],[600.6],[9000.9]])\n",
        "# Create scaler\n",
        "scaler=preprocessing.StandardScaler()\n",
        "# Transform the feature\n",
        "standardized=scaler.fit_transform(x)\n",
        "# Show feature\n",
        "standardized"
      ],
      "metadata": {
        "colab": {
          "base_uri": "https://localhost:8080/"
        },
        "id": "MUikm8BdyCzX",
        "outputId": "9ea87e51-2744-4fc5-b193-aebd2611cbc8"
      },
      "execution_count": 3,
      "outputs": [
        {
          "output_type": "execute_result",
          "data": {
            "text/plain": [
              "array([[-0.76058269],\n",
              "       [-0.54177196],\n",
              "       [-0.35009716],\n",
              "       [-0.32271504],\n",
              "       [ 1.97516685]])"
            ]
          },
          "metadata": {},
          "execution_count": 3
        }
      ]
    },
    {
      "cell_type": "code",
      "execution_count": null,
      "metadata": {
        "id": "6ZN11dn9xUW5",
        "outputId": "6921b540-d373-41a5-b31c-fe317ae5eb73"
      },
      "outputs": [
        {
          "data": {
            "text/plain": [
              "array([[0.70710678, 0.70710678],\n",
              "       [0.30782029, 0.95144452],\n",
              "       [0.07405353, 0.99725427],\n",
              "       [0.04733062, 0.99887928],\n",
              "       [0.95709822, 0.28976368]])"
            ]
          },
          "execution_count": 5,
          "metadata": {},
          "output_type": "execute_result"
        }
      ],
      "source": [
        "# 4.3 Normalizing Observations\n",
        "# Load libraries\n",
        "import numpy as np\n",
        "from sklearn.preprocessing import Normalizer\n",
        "# Create feature matrix\n",
        "features = np.array([[0.5, 0.5],\n",
        "[1.1, 3.4],\n",
        "[1.5, 20.2],\n",
        "[1.63, 34.4],\n",
        "[10.9, 3.3]])\n",
        "# Create normalizer\n",
        "normalizer = Normalizer(norm=\"l2\")\n",
        "# Transform feature matrix\n",
        "normalizer.transform(features)"
      ]
    },
    {
      "cell_type": "code",
      "execution_count": null,
      "metadata": {
        "id": "hhIUdSEJxUW6",
        "outputId": "09ee5573-ff7d-4451-d5b2-00a3d4aac782"
      },
      "outputs": [
        {
          "data": {
            "text/plain": [
              "array([[0.70710678, 0.70710678],\n",
              "       [0.30782029, 0.95144452],\n",
              "       [0.07405353, 0.99725427],\n",
              "       [0.04733062, 0.99887928],\n",
              "       [0.95709822, 0.28976368]])"
            ]
          },
          "execution_count": 6,
          "metadata": {},
          "output_type": "execute_result"
        }
      ],
      "source": [
        "# Transform feature matrix\n",
        "features_l2_norm = Normalizer(norm=\"l2\").transform(features)\n",
        "# Show feature matrix\n",
        "features_l2_norm"
      ]
    },
    {
      "cell_type": "code",
      "execution_count": null,
      "metadata": {
        "id": "iC0c0sILxUW6",
        "outputId": "33deeaf0-6466-4463-9c8f-d8d7ed931f14"
      },
      "outputs": [
        {
          "data": {
            "text/plain": [
              "array([[0.5       , 0.5       ],\n",
              "       [0.24444444, 0.75555556],\n",
              "       [0.06912442, 0.93087558],\n",
              "       [0.04524008, 0.95475992],\n",
              "       [0.76760563, 0.23239437]])"
            ]
          },
          "execution_count": 7,
          "metadata": {},
          "output_type": "execute_result"
        }
      ],
      "source": [
        "# Transform feature matrix\n",
        "features_l1_norm = Normalizer(norm=\"l1\").transform(features)\n",
        "# Show feature matrix\n",
        "features_l1_norm"
      ]
    },
    {
      "cell_type": "code",
      "execution_count": null,
      "metadata": {
        "id": "ljy6qySXxUW7",
        "outputId": "23b48310-016f-442a-f260-dd3532a4236e"
      },
      "outputs": [
        {
          "name": "stdout",
          "output_type": "stream",
          "text": [
            "Sum of the first observation's values: 1.0\n"
          ]
        }
      ],
      "source": [
        "# Print sum\n",
        "print(\"Sum of the first observation\\'s values:\",\n",
        "features_l1_norm[0, 0] + features_l1_norm[0, 1])"
      ]
    },
    {
      "cell_type": "code",
      "execution_count": null,
      "metadata": {
        "id": "SGw-11LexUW8",
        "outputId": "3708dffa-b8b4-49d4-db0a-ef7cd5312f79"
      },
      "outputs": [
        {
          "data": {
            "text/plain": [
              "array([[2., 3., 4., 6., 9.],\n",
              "       [2., 3., 4., 6., 9.],\n",
              "       [2., 3., 4., 6., 9.]])"
            ]
          },
          "execution_count": 9,
          "metadata": {},
          "output_type": "execute_result"
        }
      ],
      "source": [
        "#4.4 Generating Polynomial and Interaction Features\n",
        "# Even though some choose to create polynomial and interaction features manually, scikit-learn offers a built-in method\n",
        "# Load libraries\n",
        "import numpy as np\n",
        "from sklearn.preprocessing import PolynomialFeatures\n",
        "# Create feature matrix\n",
        "features = np.array([[2, 3],\n",
        "[2, 3],\n",
        "[2, 3]])\n",
        "# Create PolynomialFeatures object\n",
        "polynomial_interaction = PolynomialFeatures(degree=2, include_bias=False)\n",
        "# Create polynomial features\n",
        "polynomial_interaction.fit_transform(features)"
      ]
    },
    {
      "cell_type": "code",
      "execution_count": null,
      "metadata": {
        "id": "r0Hxz3UnxUW9",
        "outputId": "a58ee499-dbf5-43ca-9add-b6c6499bb424"
      },
      "outputs": [
        {
          "data": {
            "text/plain": [
              "array([[2., 3., 6.],\n",
              "       [2., 3., 6.],\n",
              "       [2., 3., 6.]])"
            ]
          },
          "execution_count": 10,
          "metadata": {},
          "output_type": "execute_result"
        }
      ],
      "source": [
        "interaction = PolynomialFeatures(degree=2,\n",
        "interaction_only=True, include_bias=False)\n",
        "interaction.fit_transform(features)"
      ]
    },
    {
      "cell_type": "code",
      "execution_count": null,
      "metadata": {
        "id": "Y6c5cvWBxUW9",
        "outputId": "97da3a21-8a66-4426-838f-79e519cc4729"
      },
      "outputs": [
        {
          "data": {
            "text/plain": [
              "array([[12, 13],\n",
              "       [12, 13],\n",
              "       [12, 13]])"
            ]
          },
          "execution_count": 12,
          "metadata": {},
          "output_type": "execute_result"
        }
      ],
      "source": [
        "#4.5 Transforming Features\n",
        "# In scikit-learn, use FunctionTransformer to apply a function to a set of features:\n",
        "\n",
        "# Load libraries\n",
        "import numpy as np\n",
        "from sklearn.preprocessing import FunctionTransformer\n",
        "# Create feature matrix\n",
        "features = np.array([[2, 3],\n",
        "[2, 3],\n",
        "[2, 3]])\n",
        "# Define a simple function\n",
        "def add_ten(x):\n",
        "    return x + 10\n",
        "# Create transformer\n",
        "ten_transformer = FunctionTransformer(add_ten)\n",
        "# Transform feature matrix\n",
        "ten_transformer.transform(features)"
      ]
    },
    {
      "cell_type": "code",
      "execution_count": null,
      "metadata": {
        "id": "QkD-R8XBxUW-",
        "outputId": "0fd3ba7c-2245-470a-a896-46d6dd73517d"
      },
      "outputs": [
        {
          "data": {
            "text/html": [
              "<div>\n",
              "<style scoped>\n",
              "    .dataframe tbody tr th:only-of-type {\n",
              "        vertical-align: middle;\n",
              "    }\n",
              "\n",
              "    .dataframe tbody tr th {\n",
              "        vertical-align: top;\n",
              "    }\n",
              "\n",
              "    .dataframe thead th {\n",
              "        text-align: right;\n",
              "    }\n",
              "</style>\n",
              "<table border=\"1\" class=\"dataframe\">\n",
              "  <thead>\n",
              "    <tr style=\"text-align: right;\">\n",
              "      <th></th>\n",
              "      <th>feature_1</th>\n",
              "      <th>feature_2</th>\n",
              "    </tr>\n",
              "  </thead>\n",
              "  <tbody>\n",
              "    <tr>\n",
              "      <th>0</th>\n",
              "      <td>12</td>\n",
              "      <td>13</td>\n",
              "    </tr>\n",
              "    <tr>\n",
              "      <th>1</th>\n",
              "      <td>12</td>\n",
              "      <td>13</td>\n",
              "    </tr>\n",
              "    <tr>\n",
              "      <th>2</th>\n",
              "      <td>12</td>\n",
              "      <td>13</td>\n",
              "    </tr>\n",
              "  </tbody>\n",
              "</table>\n",
              "</div>"
            ],
            "text/plain": [
              "   feature_1  feature_2\n",
              "0         12         13\n",
              "1         12         13\n",
              "2         12         13"
            ]
          },
          "execution_count": 13,
          "metadata": {},
          "output_type": "execute_result"
        }
      ],
      "source": [
        "# We can create the same transformation in pandas using apply:\n",
        "\n",
        "# Load library\n",
        "import pandas as pd\n",
        "# Create DataFrame\n",
        "df = pd.DataFrame(features, columns=[\"feature_1\", \"feature_2\"])\n",
        "# Apply function\n",
        "df.apply(add_ten)\n"
      ]
    },
    {
      "cell_type": "code",
      "execution_count": null,
      "metadata": {
        "id": "LbTw9KbqxUW-",
        "outputId": "86fb1018-650c-4b6d-a7bd-9fe668a7c0ab"
      },
      "outputs": [
        {
          "data": {
            "text/plain": [
              "array([-1,  1,  1,  1,  1,  1,  1,  1,  1,  1])"
            ]
          },
          "execution_count": 14,
          "metadata": {},
          "output_type": "execute_result"
        }
      ],
      "source": [
        "#4.6 Detecting Outliers\n",
        "# Load libraries\n",
        "import numpy as np\n",
        "from sklearn.covariance import EllipticEnvelope\n",
        "from sklearn.datasets import make_blobs\n",
        "# Create simulated data\n",
        "features, _ = make_blobs(n_samples = 10,\n",
        "n_features = 2,\n",
        "centers = 1,\n",
        "random_state = 1)\n",
        "# Replace the first observation's values with extreme values\n",
        "features[0,0] = 10000\n",
        "features[0,1] = 10000\n",
        "# Create detector\n",
        "outlier_detector = EllipticEnvelope(contamination=.1)\n",
        "# Fit detector\n",
        "outlier_detector.fit(features)\n",
        "# Predict outliers\n",
        "outlier_detector.predict(features)"
      ]
    },
    {
      "cell_type": "code",
      "execution_count": null,
      "metadata": {
        "id": "IokRB7CsxUW_",
        "outputId": "46a34378-c768-4b65-8317-18c988e5497d"
      },
      "outputs": [
        {
          "data": {
            "text/plain": [
              "(array([0], dtype=int64),)"
            ]
          },
          "execution_count": 16,
          "metadata": {},
          "output_type": "execute_result"
        }
      ],
      "source": [
        "# Instead of looking at observations as a whole, we can instead look at individual features and identify extreme values in those features using interquartile range (IQR)\n",
        "\n",
        "# Create one feature\n",
        "feature = features[:,0]\n",
        "# Create a function to return index of outliers\n",
        "def indicies_of_outliers(x):\n",
        "    q1, q3 = np.percentile(x, [25, 75])\n",
        "    iqr = q3 - q1\n",
        "    lower_bound = q1 - (iqr * 1.5)\n",
        "    upper_bound = q3 + (iqr * 1.5)\n",
        "    return np.where((x > upper_bound) | (x < lower_bound))\n",
        "# Run function\n",
        "indicies_of_outliers(feature)"
      ]
    },
    {
      "cell_type": "code",
      "execution_count": null,
      "metadata": {
        "id": "gRhp1VZixUXA",
        "outputId": "335498a7-71b5-4fe9-eb6e-bb6d117194e3"
      },
      "outputs": [
        {
          "data": {
            "text/html": [
              "<div>\n",
              "<style scoped>\n",
              "    .dataframe tbody tr th:only-of-type {\n",
              "        vertical-align: middle;\n",
              "    }\n",
              "\n",
              "    .dataframe tbody tr th {\n",
              "        vertical-align: top;\n",
              "    }\n",
              "\n",
              "    .dataframe thead th {\n",
              "        text-align: right;\n",
              "    }\n",
              "</style>\n",
              "<table border=\"1\" class=\"dataframe\">\n",
              "  <thead>\n",
              "    <tr style=\"text-align: right;\">\n",
              "      <th></th>\n",
              "      <th>Price</th>\n",
              "      <th>Bathrooms</th>\n",
              "      <th>Square_Feet</th>\n",
              "    </tr>\n",
              "  </thead>\n",
              "  <tbody>\n",
              "    <tr>\n",
              "      <th>0</th>\n",
              "      <td>534433</td>\n",
              "      <td>2.0</td>\n",
              "      <td>1500</td>\n",
              "    </tr>\n",
              "    <tr>\n",
              "      <th>1</th>\n",
              "      <td>392333</td>\n",
              "      <td>3.5</td>\n",
              "      <td>2500</td>\n",
              "    </tr>\n",
              "    <tr>\n",
              "      <th>2</th>\n",
              "      <td>293222</td>\n",
              "      <td>2.0</td>\n",
              "      <td>1500</td>\n",
              "    </tr>\n",
              "  </tbody>\n",
              "</table>\n",
              "</div>"
            ],
            "text/plain": [
              "    Price  Bathrooms  Square_Feet\n",
              "0  534433        2.0         1500\n",
              "1  392333        3.5         2500\n",
              "2  293222        2.0         1500"
            ]
          },
          "execution_count": 17,
          "metadata": {},
          "output_type": "execute_result"
        }
      ],
      "source": [
        "#4.7 Handling Outliers\n",
        "# Typically we have three strategies we can use to handle outliers. First, we can drop them:\n",
        "# Load library\n",
        "import pandas as pd\n",
        "# Create DataFrame\n",
        "houses = pd.DataFrame()\n",
        "houses['Price'] = [534433, 392333, 293222, 4322032]\n",
        "houses['Bathrooms'] = [2, 3.5, 2, 116]\n",
        "houses['Square_Feet'] = [1500, 2500, 1500, 48000]\n",
        "# Filter observations\n",
        "houses[houses['Bathrooms'] < 20]"
      ]
    },
    {
      "cell_type": "code",
      "execution_count": null,
      "metadata": {
        "id": "Oxkv6fmRxUXA",
        "outputId": "d782961e-0b61-4a50-e515-9eeeb12afd04"
      },
      "outputs": [
        {
          "data": {
            "text/html": [
              "<div>\n",
              "<style scoped>\n",
              "    .dataframe tbody tr th:only-of-type {\n",
              "        vertical-align: middle;\n",
              "    }\n",
              "\n",
              "    .dataframe tbody tr th {\n",
              "        vertical-align: top;\n",
              "    }\n",
              "\n",
              "    .dataframe thead th {\n",
              "        text-align: right;\n",
              "    }\n",
              "</style>\n",
              "<table border=\"1\" class=\"dataframe\">\n",
              "  <thead>\n",
              "    <tr style=\"text-align: right;\">\n",
              "      <th></th>\n",
              "      <th>Price</th>\n",
              "      <th>Bathrooms</th>\n",
              "      <th>Square_Feet</th>\n",
              "      <th>Outlier</th>\n",
              "    </tr>\n",
              "  </thead>\n",
              "  <tbody>\n",
              "    <tr>\n",
              "      <th>0</th>\n",
              "      <td>534433</td>\n",
              "      <td>2.0</td>\n",
              "      <td>1500</td>\n",
              "      <td>0</td>\n",
              "    </tr>\n",
              "    <tr>\n",
              "      <th>1</th>\n",
              "      <td>392333</td>\n",
              "      <td>3.5</td>\n",
              "      <td>2500</td>\n",
              "      <td>0</td>\n",
              "    </tr>\n",
              "    <tr>\n",
              "      <th>2</th>\n",
              "      <td>293222</td>\n",
              "      <td>2.0</td>\n",
              "      <td>1500</td>\n",
              "      <td>0</td>\n",
              "    </tr>\n",
              "    <tr>\n",
              "      <th>3</th>\n",
              "      <td>4322032</td>\n",
              "      <td>116.0</td>\n",
              "      <td>48000</td>\n",
              "      <td>1</td>\n",
              "    </tr>\n",
              "  </tbody>\n",
              "</table>\n",
              "</div>"
            ],
            "text/plain": [
              "     Price  Bathrooms  Square_Feet  Outlier\n",
              "0   534433        2.0         1500        0\n",
              "1   392333        3.5         2500        0\n",
              "2   293222        2.0         1500        0\n",
              "3  4322032      116.0        48000        1"
            ]
          },
          "execution_count": 18,
          "metadata": {},
          "output_type": "execute_result"
        }
      ],
      "source": [
        "# Second, we can mark them as outliers and include it as a feature:\n",
        "# Load library\n",
        "import numpy as np\n",
        "# Create feature based on boolean condition\n",
        "houses[\"Outlier\"] = np.where(houses[\"Bathrooms\"] < 20, 0, 1)\n",
        "# Show data\n",
        "houses"
      ]
    },
    {
      "cell_type": "code",
      "execution_count": null,
      "metadata": {
        "id": "2M6Ey1JNxUXA",
        "outputId": "076f364c-c68b-4371-e5dc-7cd7a7b86bac"
      },
      "outputs": [
        {
          "data": {
            "text/html": [
              "<div>\n",
              "<style scoped>\n",
              "    .dataframe tbody tr th:only-of-type {\n",
              "        vertical-align: middle;\n",
              "    }\n",
              "\n",
              "    .dataframe tbody tr th {\n",
              "        vertical-align: top;\n",
              "    }\n",
              "\n",
              "    .dataframe thead th {\n",
              "        text-align: right;\n",
              "    }\n",
              "</style>\n",
              "<table border=\"1\" class=\"dataframe\">\n",
              "  <thead>\n",
              "    <tr style=\"text-align: right;\">\n",
              "      <th></th>\n",
              "      <th>Price</th>\n",
              "      <th>Bathrooms</th>\n",
              "      <th>Square_Feet</th>\n",
              "      <th>Outlier</th>\n",
              "      <th>Log_Of_Square_Feet</th>\n",
              "    </tr>\n",
              "  </thead>\n",
              "  <tbody>\n",
              "    <tr>\n",
              "      <th>0</th>\n",
              "      <td>534433</td>\n",
              "      <td>2.0</td>\n",
              "      <td>1500</td>\n",
              "      <td>0</td>\n",
              "      <td>7.313220</td>\n",
              "    </tr>\n",
              "    <tr>\n",
              "      <th>1</th>\n",
              "      <td>392333</td>\n",
              "      <td>3.5</td>\n",
              "      <td>2500</td>\n",
              "      <td>0</td>\n",
              "      <td>7.824046</td>\n",
              "    </tr>\n",
              "    <tr>\n",
              "      <th>2</th>\n",
              "      <td>293222</td>\n",
              "      <td>2.0</td>\n",
              "      <td>1500</td>\n",
              "      <td>0</td>\n",
              "      <td>7.313220</td>\n",
              "    </tr>\n",
              "    <tr>\n",
              "      <th>3</th>\n",
              "      <td>4322032</td>\n",
              "      <td>116.0</td>\n",
              "      <td>48000</td>\n",
              "      <td>1</td>\n",
              "      <td>10.778956</td>\n",
              "    </tr>\n",
              "  </tbody>\n",
              "</table>\n",
              "</div>"
            ],
            "text/plain": [
              "     Price  Bathrooms  Square_Feet  Outlier  Log_Of_Square_Feet\n",
              "0   534433        2.0         1500        0            7.313220\n",
              "1   392333        3.5         2500        0            7.824046\n",
              "2   293222        2.0         1500        0            7.313220\n",
              "3  4322032      116.0        48000        1           10.778956"
            ]
          },
          "execution_count": 19,
          "metadata": {},
          "output_type": "execute_result"
        }
      ],
      "source": [
        "# Finally, we can transform the feature to dampen the effect of the outlier:\n",
        "# Log feature\n",
        "houses[\"Log_Of_Square_Feet\"] = [np.log(x) for x in houses[\"Square_Feet\"]]\n",
        "# Show data\n",
        "houses"
      ]
    },
    {
      "cell_type": "code",
      "execution_count": null,
      "metadata": {
        "id": "chALEFp7xUXB",
        "outputId": "b0b3d4d1-2266-431c-8752-e80be948a510"
      },
      "outputs": [
        {
          "data": {
            "text/plain": [
              "array([[0],\n",
              "       [0],\n",
              "       [1],\n",
              "       [1],\n",
              "       [1]])"
            ]
          },
          "execution_count": 52,
          "metadata": {},
          "output_type": "execute_result"
        }
      ],
      "source": [
        "#4.8 Discretizating Features\n",
        "# Load libraries\n",
        "import numpy as np\n",
        "from sklearn.preprocessing import Binarizer\n",
        "# Create feature\n",
        "age = np.array([[6],\n",
        "                [12],\n",
        "                [20],\n",
        "                [36],\n",
        "                [65]])\n",
        "# Create binarizer\n",
        "binarizer = Binarizer(threshold=18)\n",
        "# Transform feature\n",
        "binarizer.fit_transform(age)"
      ]
    },
    {
      "cell_type": "code",
      "execution_count": null,
      "metadata": {
        "id": "4d4JEZUjxUXB",
        "outputId": "11408694-cef6-461b-c878-a58902aa8308"
      },
      "outputs": [
        {
          "data": {
            "text/plain": [
              "array([[0],\n",
              "       [0],\n",
              "       [1],\n",
              "       [2],\n",
              "       [3]], dtype=int64)"
            ]
          },
          "execution_count": 45,
          "metadata": {},
          "output_type": "execute_result"
        }
      ],
      "source": [
        "# Second, we can break up numerical features according to multiple thresholds:\n",
        "# Bin feature\n",
        "np.digitize(age, bins=[20,30,64])"
      ]
    }
  ],
  "metadata": {
    "kernelspec": {
      "display_name": "Python 3.7.9 64-bit",
      "language": "python",
      "name": "python3"
    },
    "language_info": {
      "codemirror_mode": {
        "name": "ipython",
        "version": 3
      },
      "file_extension": ".py",
      "mimetype": "text/x-python",
      "name": "python",
      "nbconvert_exporter": "python",
      "pygments_lexer": "ipython3",
      "version": "3.7.9"
    },
    "orig_nbformat": 4,
    "vscode": {
      "interpreter": {
        "hash": "a1b42ebe548d14861a22736ee7e0f69f43a89d345dc165f7d716362d48acdb73"
      }
    },
    "colab": {
      "provenance": []
    }
  },
  "nbformat": 4,
  "nbformat_minor": 0
}