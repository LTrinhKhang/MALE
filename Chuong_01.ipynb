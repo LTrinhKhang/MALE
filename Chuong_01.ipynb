{
 "cells": [
  {
   "cell_type": "code",
   "execution_count": 2,
   "id": "c39c6f7a-009c-4bf9-b3c0-5c005d2ff74a",
   "metadata": {},
   "outputs": [],
   "source": [
    "#1.1 Creating Vector\n",
    "# Load library\n",
    "import numpy as np\n",
    "# Create a vector as a row\n",
    "vector_row=np.array([1,2,3])\n",
    "# Create a vector as a column\n",
    "vector_column=np.array([[1],[2],[3]])"
   ]
  },
  {
   "cell_type": "code",
   "execution_count": 4,
   "id": "bb7e74dc-9b03-43ed-a7f9-cb28c575df94",
   "metadata": {},
   "outputs": [],
   "source": [
    "#1.2 Create a Matrix\n",
    "# Load library\n",
    "import numpy as np\n",
    "# Create a matrix\n",
    "matrix=np.array([[1,2],[1,2],[1,2]])"
   ]
  },
  {
   "cell_type": "code",
   "execution_count": 5,
   "id": "57180c01-2b90-4492-812b-0f082a1f01b8",
   "metadata": {},
   "outputs": [],
   "source": [
    "matrix_object=np.mat([[1,2],\n",
    "[1,2],\n",
    "[1,2]])"
   ]
  },
  {
   "cell_type": "code",
   "execution_count": 6,
   "id": "82bb723e-44b3-4f5b-942c-33fff89ec619",
   "metadata": {},
   "outputs": [],
   "source": [
    "#1.3 Create a Spare Matrix\n",
    "# Load libraries\n",
    "import numpy as np\n",
    "from scipy import sparse\n",
    "# Create a matrix\n",
    "matrix=np.array([[0,0],[0,1],[3,0]])\n",
    "# Create compressed sparse row (CSR) matrix\n",
    "matrix_sparse=sparse.csr_matrix(matrix)"
   ]
  },
  {
   "cell_type": "code",
   "execution_count": 8,
   "id": "895adae0-9e6d-4b81-b6b6-612a09ebc48c",
   "metadata": {},
   "outputs": [
    {
     "name": "stdout",
     "output_type": "stream",
     "text": [
      "  (1, 1)\t1\n",
      "  (2, 0)\t3\n"
     ]
    }
   ],
   "source": [
    "print(matrix_sparse)"
   ]
  },
  {
   "cell_type": "code",
   "execution_count": 9,
   "id": "280e2a16-c8c2-4db4-9c7a-c0796ec5f1b5",
   "metadata": {},
   "outputs": [
    {
     "name": "stdout",
     "output_type": "stream",
     "text": [
      "  (1, 1)\t1\n",
      "  (2, 0)\t3\n",
      "  (1, 1)\t1\n",
      "  (2, 0)\t3\n"
     ]
    }
   ],
   "source": [
    "# Create larger matrix\n",
    "matrix_large=np.array([[0,0,0,0,0,0,0,0,0,0],\n",
    "                       [0,1,0,0,0,0,0,0,0,0],\n",
    "                       [3,0,0,0,0,0,0,0,0,0]])\n",
    "# Create compressed sparse row (CSR) matrix\n",
    "matrix_large_sparse=sparse.csr_matrix(matrix_large)\n",
    "# View original sparse matrix\n",
    "print(matrix_sparse)\n",
    "print(matrix_large_sparse)"
   ]
  },
  {
   "cell_type": "code",
   "execution_count": null,
   "id": "70fecf28-7901-4120-803a-9b1ee4026861",
   "metadata": {},
   "outputs": [],
   "source": [
    "1.4 Selecting Elements"
   ]
  },
  {
   "cell_type": "code",
   "execution_count": 11,
   "id": "b7bcae32-e550-4491-90a4-1f81e660f709",
   "metadata": {},
   "outputs": [
    {
     "data": {
      "text/plain": [
       "3"
      ]
     },
     "execution_count": 11,
     "metadata": {},
     "output_type": "execute_result"
    }
   ],
   "source": [
    "# Create row vector\n",
    "vector=np.array([1,2,3,4,5,6])\n",
    "# Create matrix\n",
    "matrix=np.array([[1,2,3],[4,5,6],[7,8,9]])\n",
    "# Select third element of vector\n",
    "vector[2]\n"
   ]
  },
  {
   "cell_type": "code",
   "execution_count": 12,
   "id": "be47895f-2021-4c86-8709-a8f11558a3e9",
   "metadata": {},
   "outputs": [
    {
     "data": {
      "text/plain": [
       "5"
      ]
     },
     "execution_count": 12,
     "metadata": {},
     "output_type": "execute_result"
    }
   ],
   "source": [
    "# Select second row, second column\n",
    "matrix[1,1]"
   ]
  },
  {
   "cell_type": "code",
   "execution_count": 13,
   "id": "5dfc3807-3651-4eee-a142-caf74330aa51",
   "metadata": {},
   "outputs": [
    {
     "data": {
      "text/plain": [
       "array([1, 2, 3, 4, 5, 6])"
      ]
     },
     "execution_count": 13,
     "metadata": {},
     "output_type": "execute_result"
    }
   ],
   "source": [
    "vector[:]"
   ]
  },
  {
   "cell_type": "code",
   "execution_count": 15,
   "id": "4f9c8baf-94d2-4c07-9375-1024a2dbe2f6",
   "metadata": {},
   "outputs": [
    {
     "data": {
      "text/plain": [
       "array([4, 5, 6])"
      ]
     },
     "execution_count": 15,
     "metadata": {},
     "output_type": "execute_result"
    }
   ],
   "source": [
    "vector[3:]"
   ]
  },
  {
   "cell_type": "code",
   "execution_count": 16,
   "id": "e776e387-6d11-468c-a24a-2b55c689d0c2",
   "metadata": {},
   "outputs": [
    {
     "data": {
      "text/plain": [
       "6"
      ]
     },
     "execution_count": 16,
     "metadata": {},
     "output_type": "execute_result"
    }
   ],
   "source": [
    "vector[-1]"
   ]
  },
  {
   "cell_type": "code",
   "execution_count": 19,
   "id": "49c80434-6b05-4cc9-b922-7e58d03c9c0f",
   "metadata": {},
   "outputs": [
    {
     "data": {
      "text/plain": [
       "array([[1, 2, 3],\n",
       "       [4, 5, 6]])"
      ]
     },
     "execution_count": 19,
     "metadata": {},
     "output_type": "execute_result"
    }
   ],
   "source": [
    "matrix[:2,:]"
   ]
  },
  {
   "cell_type": "code",
   "execution_count": 20,
   "id": "74ee3aca-c114-46d7-84e8-a727ff9a06fe",
   "metadata": {},
   "outputs": [
    {
     "data": {
      "text/plain": [
       "array([[2],\n",
       "       [5],\n",
       "       [8]])"
      ]
     },
     "execution_count": 20,
     "metadata": {},
     "output_type": "execute_result"
    }
   ],
   "source": [
    "matrix[:,1:2]"
   ]
  },
  {
   "cell_type": "code",
   "execution_count": 21,
   "id": "c6d9d52a-a41c-40ab-8a47-5c61e90f9ff4",
   "metadata": {},
   "outputs": [
    {
     "data": {
      "text/plain": [
       "(3, 4)"
      ]
     },
     "execution_count": 21,
     "metadata": {},
     "output_type": "execute_result"
    }
   ],
   "source": [
    "#1.5 Describing a Matrix \n",
    "# Load library\n",
    "\n",
    "# Create matrix\n",
    "matrix=np.array([[1,2,3,4],[5,6,7,8],[9,10,11,12]])\n",
    "# View number of rows and columns\n",
    "matrix.shape"
   ]
  },
  {
   "cell_type": "code",
   "execution_count": 23,
   "id": "e31a33ec-f5a7-4277-8f00-879ea1d010cd",
   "metadata": {},
   "outputs": [
    {
     "data": {
      "text/plain": [
       "12"
      ]
     },
     "execution_count": 23,
     "metadata": {},
     "output_type": "execute_result"
    }
   ],
   "source": [
    "# View number of elements (rows * columns)\n",
    "matrix.size"
   ]
  },
  {
   "cell_type": "code",
   "execution_count": 22,
   "id": "77745d3f-f008-4d00-839e-29dd68921819",
   "metadata": {},
   "outputs": [
    {
     "data": {
      "text/plain": [
       "2"
      ]
     },
     "execution_count": 22,
     "metadata": {},
     "output_type": "execute_result"
    }
   ],
   "source": [
    "# View number of dimensions\n",
    "matrix.ndim"
   ]
  },
  {
   "cell_type": "code",
   "execution_count": null,
   "id": "c5b2f09f-1609-4e05-b4a6-484c1e89ba8d",
   "metadata": {},
   "outputs": [],
   "source": [
    "# Applying Operation to Elements"
   ]
  },
  {
   "cell_type": "code",
   "execution_count": 25,
   "id": "ac0f62ee-af5d-4097-8856-23bc96470067",
   "metadata": {},
   "outputs": [
    {
     "data": {
      "text/plain": [
       "array([[101, 102, 103],\n",
       "       [104, 105, 106],\n",
       "       [107, 108, 109]])"
      ]
     },
     "execution_count": 25,
     "metadata": {},
     "output_type": "execute_result"
    }
   ],
   "source": [
    "# Load library\n",
    "import numpy as np\n",
    "# Create matrix\n",
    "matrix=np.array([[1,2,3],[4,5,6],[7,8,9]])\n",
    "# Create function that adds 100 to something\n",
    "add_100=lambda i:i+100\n",
    "# Create vectorized function\n",
    "vectorized_add_100=np.vectorize(add_100)\n",
    "# Apply function to all elements in matrix\n",
    "vectorized_add_100(matrix)"
   ]
  },
  {
   "cell_type": "code",
   "execution_count": 26,
   "id": "eebab40a-a88c-4059-a3ae-0889b70f1201",
   "metadata": {},
   "outputs": [
    {
     "data": {
      "text/plain": [
       "array([[101, 102, 103],\n",
       "       [104, 105, 106],\n",
       "       [107, 108, 109]])"
      ]
     },
     "execution_count": 26,
     "metadata": {},
     "output_type": "execute_result"
    }
   ],
   "source": [
    "# Add 100 to all elements\n",
    "matrix+100"
   ]
  },
  {
   "cell_type": "code",
   "execution_count": 27,
   "id": "8a548067-c5b6-497f-8f82-4d15e04de1e2",
   "metadata": {},
   "outputs": [
    {
     "data": {
      "text/plain": [
       "9"
      ]
     },
     "execution_count": 27,
     "metadata": {},
     "output_type": "execute_result"
    }
   ],
   "source": [
    "#1.7 Finding the Maximum and Minimum Values \n",
    "# Load library\n",
    "import numpy as np\n",
    "# Create matrix\n",
    "matrix=np.array([[1,2,3],[4,5,6],[7,8,9]])\n",
    "# Return maximum element\n",
    "np.max(matrix)"
   ]
  },
  {
   "cell_type": "code",
   "execution_count": 28,
   "id": "6e9ee222-0eb3-4f02-b575-371485e2ad73",
   "metadata": {},
   "outputs": [
    {
     "data": {
      "text/plain": [
       "1"
      ]
     },
     "execution_count": 28,
     "metadata": {},
     "output_type": "execute_result"
    }
   ],
   "source": [
    "np.min(matrix)"
   ]
  },
  {
   "cell_type": "code",
   "execution_count": 29,
   "id": "a5ef8068-b207-43a7-9bd0-31cbae15b1d8",
   "metadata": {},
   "outputs": [
    {
     "data": {
      "text/plain": [
       "array([7, 8, 9])"
      ]
     },
     "execution_count": 29,
     "metadata": {},
     "output_type": "execute_result"
    }
   ],
   "source": [
    "np.max(matrix, axis =0)"
   ]
  },
  {
   "cell_type": "code",
   "execution_count": 30,
   "id": "79f53992-c200-4fed-b2d5-4520525ed93f",
   "metadata": {},
   "outputs": [
    {
     "data": {
      "text/plain": [
       "array([3, 6, 9])"
      ]
     },
     "execution_count": 30,
     "metadata": {},
     "output_type": "execute_result"
    }
   ],
   "source": [
    "np.max(matrix, axis =1)"
   ]
  },
  {
   "cell_type": "code",
   "execution_count": 31,
   "id": "78aa3c03-89b8-41dc-b72d-dd5493470204",
   "metadata": {},
   "outputs": [],
   "source": [
    "#1.8 Calculating the Average, Variance, and StandardDeviation\n",
    "# Load library\n",
    "import numpy as np\n",
    "# Create matrix\n",
    "matrix=np.array([[1,2,3],\n",
    "                 [4,5,6],\n",
    "                 [7,8,9]])"
   ]
  },
  {
   "cell_type": "code",
   "execution_count": 32,
   "id": "9ea0aa64-e568-448d-a43d-0edbaeca72f9",
   "metadata": {},
   "outputs": [
    {
     "data": {
      "text/plain": [
       "5.0"
      ]
     },
     "execution_count": 32,
     "metadata": {},
     "output_type": "execute_result"
    }
   ],
   "source": [
    "np.mean(matrix)"
   ]
  },
  {
   "cell_type": "markdown",
   "id": "132dc339-c0c0-41b8-a451-3d41fdf5b65f",
   "metadata": {},
   "source": [
    "np.var(matrix)"
   ]
  },
  {
   "cell_type": "code",
   "execution_count": 33,
   "id": "092c03e2-3773-4198-9496-6e1da0f63f49",
   "metadata": {},
   "outputs": [
    {
     "data": {
      "text/plain": [
       "2.581988897471611"
      ]
     },
     "execution_count": 33,
     "metadata": {},
     "output_type": "execute_result"
    }
   ],
   "source": [
    "np.std(matrix)"
   ]
  },
  {
   "cell_type": "code",
   "execution_count": 34,
   "id": "6f38df0d-1625-4114-b191-495bb7021d16",
   "metadata": {},
   "outputs": [
    {
     "data": {
      "text/plain": [
       "6.666666666666667"
      ]
     },
     "execution_count": 34,
     "metadata": {},
     "output_type": "execute_result"
    }
   ],
   "source": [
    "np.var(matrix)"
   ]
  },
  {
   "cell_type": "code",
   "execution_count": 35,
   "id": "b160bafc-36eb-4519-a151-fcdb708514f1",
   "metadata": {},
   "outputs": [
    {
     "data": {
      "text/plain": [
       "array([4., 5., 6.])"
      ]
     },
     "execution_count": 35,
     "metadata": {},
     "output_type": "execute_result"
    }
   ],
   "source": [
    "np.mean(matrix,axis =0)"
   ]
  },
  {
   "cell_type": "code",
   "execution_count": 37,
   "id": "d9d98539-4508-4da5-b4da-51e0f130e8dc",
   "metadata": {},
   "outputs": [
    {
     "data": {
      "text/plain": [
       "array([[ 1,  2,  3,  4,  5,  6],\n",
       "       [ 7,  8,  9, 10, 11, 12]])"
      ]
     },
     "execution_count": 37,
     "metadata": {},
     "output_type": "execute_result"
    }
   ],
   "source": [
    "#1.9 Reshaping Arrays \n",
    "# Load library\n",
    "import numpy as np\n",
    "# Create 4x3 matrix\n",
    "matrix=np.array([[1,2,3],\n",
    "                 [4,5,6],\n",
    "                 [7,8,9],\n",
    "                 [10,11,12]])\n",
    "# Reshape matrix into 2x6 matrix \n",
    "matrix.reshape(2,6)"
   ]
  },
  {
   "cell_type": "code",
   "execution_count": 38,
   "id": "689a134e-4ba8-429f-9475-cc662697c9d6",
   "metadata": {},
   "outputs": [
    {
     "data": {
      "text/plain": [
       "12"
      ]
     },
     "execution_count": 38,
     "metadata": {},
     "output_type": "execute_result"
    }
   ],
   "source": [
    "matrix.size"
   ]
  },
  {
   "cell_type": "code",
   "execution_count": 39,
   "id": "fc0c895d-a49f-4c05-a027-855bbd17ba8b",
   "metadata": {},
   "outputs": [
    {
     "data": {
      "text/plain": [
       "array([[ 1,  2,  3,  4,  5,  6,  7,  8,  9, 10, 11, 12]])"
      ]
     },
     "execution_count": 39,
     "metadata": {},
     "output_type": "execute_result"
    }
   ],
   "source": [
    "matrix.reshape(1,-1)"
   ]
  },
  {
   "cell_type": "code",
   "execution_count": 40,
   "id": "be576e18-b911-45c8-a40f-224bb6009fa0",
   "metadata": {},
   "outputs": [
    {
     "data": {
      "text/plain": [
       "array([ 1,  2,  3,  4,  5,  6,  7,  8,  9, 10, 11, 12])"
      ]
     },
     "execution_count": 40,
     "metadata": {},
     "output_type": "execute_result"
    }
   ],
   "source": [
    "matrix.reshape(12)"
   ]
  },
  {
   "cell_type": "code",
   "execution_count": 41,
   "id": "d75e2d34-2991-4693-a13c-d04d253ef1c0",
   "metadata": {},
   "outputs": [
    {
     "data": {
      "text/plain": [
       "array([[1, 4, 7],\n",
       "       [2, 5, 8],\n",
       "       [3, 6, 9]])"
      ]
     },
     "execution_count": 41,
     "metadata": {},
     "output_type": "execute_result"
    }
   ],
   "source": [
    "#1.10 Transposing a Vector or Matrix \n",
    "# Load library \n",
    "import numpy as np \n",
    "# Create matrix \n",
    "matrix = np.array([[1,2,3],\n",
    "                 [4,5,6],\n",
    "                 [7,8,9]])\n",
    "matrix.T"
   ]
  },
  {
   "cell_type": "code",
   "execution_count": 42,
   "id": "6b7c2f9f-8d36-4347-a37e-b925620bc0bb",
   "metadata": {},
   "outputs": [
    {
     "data": {
      "text/plain": [
       "array([1, 2, 3, 4, 5, 6])"
      ]
     },
     "execution_count": 42,
     "metadata": {},
     "output_type": "execute_result"
    }
   ],
   "source": [
    "#Transpose vector \n",
    "np.array([1,2,3,4,5,6]).T"
   ]
  },
  {
   "cell_type": "code",
   "execution_count": 43,
   "id": "f1cb17db-2ef2-486d-8f3b-9446a70ff7d2",
   "metadata": {},
   "outputs": [
    {
     "data": {
      "text/plain": [
       "array([[1],\n",
       "       [2],\n",
       "       [3],\n",
       "       [4],\n",
       "       [5],\n",
       "       [6]])"
      ]
     },
     "execution_count": 43,
     "metadata": {},
     "output_type": "execute_result"
    }
   ],
   "source": [
    "#Transpose row vector \n",
    "np.array([[1,2,3,4,5,6]]).T"
   ]
  },
  {
   "cell_type": "code",
   "execution_count": 44,
   "id": "ff9b4902-53ca-4cb1-bd99-e477c92edef8",
   "metadata": {},
   "outputs": [
    {
     "data": {
      "text/plain": [
       "array([1, 2, 3, 4, 5, 6, 7, 8, 9])"
      ]
     },
     "execution_count": 44,
     "metadata": {},
     "output_type": "execute_result"
    }
   ],
   "source": [
    "#1.11 Flattenting a Matrix \n",
    "# Load library\n",
    "import numpy as np\n",
    "# Create matrix\n",
    "matrix=np.array([[1,2,3],[4,5,6],[7,8,9]])\n",
    "# Flatten matrix\n",
    "matrix.flatten()"
   ]
  },
  {
   "cell_type": "code",
   "execution_count": 45,
   "id": "d0cdd2c3-6340-4d30-a9c3-a713a5fce2d0",
   "metadata": {},
   "outputs": [
    {
     "data": {
      "text/plain": [
       "array([[1, 2, 3, 4, 5, 6, 7, 8, 9]])"
      ]
     },
     "execution_count": 45,
     "metadata": {},
     "output_type": "execute_result"
    }
   ],
   "source": [
    "matrix.reshape(1,-1)"
   ]
  },
  {
   "cell_type": "code",
   "execution_count": 46,
   "id": "530c8be9-c826-4833-9abe-1082fc37a4ec",
   "metadata": {},
   "outputs": [
    {
     "data": {
      "text/plain": [
       "2"
      ]
     },
     "execution_count": 46,
     "metadata": {},
     "output_type": "execute_result"
    }
   ],
   "source": [
    "#1.12 Finding the Rank of Matrix\n",
    "# Load library\n",
    "import numpy as np\n",
    "# Create matrix\n",
    "matrix=np.array([[1,1,1],[1,1,10],[1,1,15]])\n",
    "# Return matrix rank\n",
    "np.linalg.matrix_rank(matrix)"
   ]
  },
  {
   "cell_type": "code",
   "execution_count": 47,
   "id": "84dd041d-3f87-4fa5-9e35-5121af91d13b",
   "metadata": {},
   "outputs": [
    {
     "data": {
      "text/plain": [
       "0.0"
      ]
     },
     "execution_count": 47,
     "metadata": {},
     "output_type": "execute_result"
    }
   ],
   "source": [
    "#1.13 Calculating the Determinant \n",
    "# Load library\n",
    "import numpy as np\n",
    "# Create matrix\n",
    "matrix=np.array([[1,2,3],[2,4,6],[3,8,9]])\n",
    "# Return determinant of matrix\n",
    "np.linalg.det(matrix)"
   ]
  },
  {
   "cell_type": "code",
   "execution_count": 48,
   "id": "cfe4481f-12db-4723-9c6c-1a71b8fb7f7a",
   "metadata": {},
   "outputs": [
    {
     "data": {
      "text/plain": [
       "array([1, 4, 9])"
      ]
     },
     "execution_count": 48,
     "metadata": {},
     "output_type": "execute_result"
    }
   ],
   "source": [
    "#1.14 Getting the Diagonal of a Matrix \n",
    "# Load library\n",
    "import numpy as np\n",
    "# Create matrix\n",
    "matrix=np.array([[1,2,3],[2,4,6],[3,8,9]])\n",
    "# Return diagonal elements\n",
    "matrix.diagonal()"
   ]
  },
  {
   "cell_type": "code",
   "execution_count": 54,
   "id": "167f1c14-aae3-4247-a52e-16a5f737b268",
   "metadata": {},
   "outputs": [
    {
     "data": {
      "text/plain": [
       "array([2, 6])"
      ]
     },
     "execution_count": 54,
     "metadata": {},
     "output_type": "execute_result"
    }
   ],
   "source": [
    "# Return diagonal one above the main diagonal\n",
    "matrix.diagonal(offset=1)"
   ]
  },
  {
   "cell_type": "code",
   "execution_count": 53,
   "id": "8e26f21a-13e3-43b1-a43f-51b2c1e7dc84",
   "metadata": {},
   "outputs": [
    {
     "data": {
      "text/plain": [
       "array([2, 8])"
      ]
     },
     "execution_count": 53,
     "metadata": {},
     "output_type": "execute_result"
    }
   ],
   "source": [
    "# Return diagonal one below the main diagonal\n",
    "matrix.diagonal(offset=-1)"
   ]
  },
  {
   "cell_type": "code",
   "execution_count": 55,
   "id": "83bc1756-ffd7-4b04-8a9a-c785eb2bed8d",
   "metadata": {},
   "outputs": [
    {
     "data": {
      "text/plain": [
       "14"
      ]
     },
     "execution_count": 55,
     "metadata": {},
     "output_type": "execute_result"
    }
   ],
   "source": [
    "#1.15 Calculating the Trace of a Matrix\n",
    "# Load library\n",
    "import numpy as np\n",
    "# Create matrix\n",
    "matrix=np.array([[1,2,3],[2,4,6],[3,8,9]])\n",
    "# Return trace\n",
    "matrix.trace()"
   ]
  },
  {
   "cell_type": "code",
   "execution_count": 56,
   "id": "352f9fdb-8791-44e1-ba49-11a6622ec550",
   "metadata": {},
   "outputs": [
    {
     "data": {
      "text/plain": [
       "14"
      ]
     },
     "execution_count": 56,
     "metadata": {},
     "output_type": "execute_result"
    }
   ],
   "source": [
    "# Return diagonal and sum elements\n",
    "sum(matrix.diagonal())\n",
    "14"
   ]
  },
  {
   "cell_type": "code",
   "execution_count": 58,
   "id": "56427eea-5f18-459a-94c7-ae7dc07f7a8d",
   "metadata": {},
   "outputs": [
    {
     "data": {
      "text/plain": [
       "array([13.55075847,  0.74003145, -3.29078992])"
      ]
     },
     "execution_count": 58,
     "metadata": {},
     "output_type": "execute_result"
    }
   ],
   "source": [
    "#1.16 Finding Eigenvalues and Eigenvectors\n",
    "# Load library\n",
    "import numpy as np\n",
    "# Create matrix\n",
    "matrix=np.array([[1,-1,3],[1,1,6],[3,8,9]])\n",
    "# Calculate eigenvalues and eigenvectors\n",
    "eigenvalues,eigenvectors=np.linalg.eig(matrix)\n",
    "# View eigenvalues\n",
    "eigenvalues"
   ]
  },
  {
   "cell_type": "code",
   "execution_count": 59,
   "id": "e0f10df5-97c3-4f47-8935-9fa686f7c0f6",
   "metadata": {},
   "outputs": [
    {
     "data": {
      "text/plain": [
       "array([[-0.17622017, -0.96677403, -0.53373322],\n",
       "       [-0.435951  ,  0.2053623 , -0.64324848],\n",
       "       [-0.88254925,  0.15223105,  0.54896288]])"
      ]
     },
     "execution_count": 59,
     "metadata": {},
     "output_type": "execute_result"
    }
   ],
   "source": [
    "# View eigenvectors\n",
    "eigenvectors"
   ]
  },
  {
   "cell_type": "code",
   "execution_count": 60,
   "id": "39b3b339-206c-42a7-b97a-10104402d50d",
   "metadata": {},
   "outputs": [
    {
     "data": {
      "text/plain": [
       "32"
      ]
     },
     "execution_count": 60,
     "metadata": {},
     "output_type": "execute_result"
    }
   ],
   "source": [
    "#1.17 Calculating Dot Products\n",
    "# Load library\n",
    "import numpy as np\n",
    "# Create two vectors\n",
    "vector_a=np.array([1,2,3])\n",
    "vector_b=np.array([4,5,6])\n",
    "# Calculate dot product\n",
    "np.dot(vector_a,vector_b)"
   ]
  },
  {
   "cell_type": "code",
   "execution_count": 61,
   "id": "e06c62c0-1bce-4f4e-8aaa-ce32b4c7ac58",
   "metadata": {},
   "outputs": [
    {
     "data": {
      "text/plain": [
       "32"
      ]
     },
     "execution_count": 61,
     "metadata": {},
     "output_type": "execute_result"
    }
   ],
   "source": [
    "# Calculate dot product\n",
    "vector_a@vector_b"
   ]
  },
  {
   "cell_type": "code",
   "execution_count": 62,
   "id": "a4a50fd9-300a-4c9c-9708-1c71bc3756ae",
   "metadata": {},
   "outputs": [
    {
     "data": {
      "text/plain": [
       "array([[ 2,  4,  2],\n",
       "       [ 2,  4,  2],\n",
       "       [ 2,  4, 10]])"
      ]
     },
     "execution_count": 62,
     "metadata": {},
     "output_type": "execute_result"
    }
   ],
   "source": [
    "#1.18 Adding and Subtracting Matrices \n",
    "# Load library\n",
    "import numpy as np\n",
    "# Create matrix\n",
    "matrix_a=np.array([[1,1,1],\n",
    "                   [1,1,1],\n",
    "                   [1,1,2]])\n",
    "# Create matrix\n",
    "matrix_b=np.array([[1,3,1],\n",
    "                   [1,3,1],\n",
    "                   [1,3,8]])\n",
    "# Add two matrices\n",
    "np.add(matrix_a,matrix_b)"
   ]
  },
  {
   "cell_type": "code",
   "execution_count": 64,
   "id": "15c5e64e-e14b-4fb1-9037-4614ab7be04d",
   "metadata": {},
   "outputs": [
    {
     "data": {
      "text/plain": [
       "array([[ 0, -2,  0],\n",
       "       [ 0, -2,  0],\n",
       "       [ 0, -2, -6]])"
      ]
     },
     "execution_count": 64,
     "metadata": {},
     "output_type": "execute_result"
    }
   ],
   "source": [
    "#Subtract two matrixes \n",
    "np.subtract(matrix_a,matrix_b)"
   ]
  },
  {
   "cell_type": "code",
   "execution_count": 65,
   "id": "6fd4f42c-2621-4b95-8e35-ce4de707cf05",
   "metadata": {},
   "outputs": [
    {
     "data": {
      "text/plain": [
       "array([[2, 5],\n",
       "       [3, 7]])"
      ]
     },
     "execution_count": 65,
     "metadata": {},
     "output_type": "execute_result"
    }
   ],
   "source": [
    "#1.19 Multiplying Matrices \n",
    "# Load library\n",
    "import numpy as np\n",
    "# Create matrix\n",
    "matrix_a=np.array([[1,1],\n",
    "[1,2]])\n",
    "# Create matrix\n",
    "matrix_b=np.array([[1,3],\n",
    "[1,2]])\n",
    "# Multiply two matrices\n",
    "np.dot(matrix_a,matrix_b)"
   ]
  },
  {
   "cell_type": "code",
   "execution_count": 66,
   "id": "730d7b8c-8234-4fcf-8dd0-a3bf6e56d269",
   "metadata": {},
   "outputs": [
    {
     "data": {
      "text/plain": [
       "array([[2, 5],\n",
       "       [3, 7]])"
      ]
     },
     "execution_count": 66,
     "metadata": {},
     "output_type": "execute_result"
    }
   ],
   "source": [
    "# Multiply two matrices\n",
    "matrix_a@matrix_b"
   ]
  },
  {
   "cell_type": "code",
   "execution_count": 67,
   "id": "a6806a4a-67aa-4759-b107-04ae284a4455",
   "metadata": {},
   "outputs": [
    {
     "data": {
      "text/plain": [
       "array([[1, 3],\n",
       "       [1, 4]])"
      ]
     },
     "execution_count": 67,
     "metadata": {},
     "output_type": "execute_result"
    }
   ],
   "source": [
    "# Multiply two matrices element-wise\n",
    "matrix_a*matrix_b"
   ]
  },
  {
   "cell_type": "code",
   "execution_count": 68,
   "id": "5294285e-4c54-43a7-a48d-68681b283c7a",
   "metadata": {},
   "outputs": [
    {
     "data": {
      "text/plain": [
       "array([[-1.66666667,  1.33333333],\n",
       "       [ 0.66666667, -0.33333333]])"
      ]
     },
     "execution_count": 68,
     "metadata": {},
     "output_type": "execute_result"
    }
   ],
   "source": [
    "#1.20 Inverting a Matrix \n",
    "# Load library\n",
    "import numpy as np\n",
    "# Create matrix\n",
    "matrix=np.array([[1,4],\n",
    "[2,5]])\n",
    "# Calculate inverse of matrix\n",
    "np.linalg.inv(matrix)"
   ]
  },
  {
   "cell_type": "code",
   "execution_count": 69,
   "id": "94205582-39f7-4ecf-91a9-401283f7620d",
   "metadata": {},
   "outputs": [
    {
     "data": {
      "text/plain": [
       "array([[1.00000000e+00, 0.00000000e+00],\n",
       "       [1.11022302e-16, 1.00000000e+00]])"
      ]
     },
     "execution_count": 69,
     "metadata": {},
     "output_type": "execute_result"
    }
   ],
   "source": [
    "# Multiply matrix and its inverse\n",
    "matrix@np.linalg.inv(matrix)"
   ]
  },
  {
   "cell_type": "code",
   "execution_count": 71,
   "id": "cde9a531-bdda-46e7-be28-792b06db8dbf",
   "metadata": {},
   "outputs": [
    {
     "data": {
      "text/plain": [
       "array([0.5488135 , 0.71518937, 0.60276338])"
      ]
     },
     "execution_count": 71,
     "metadata": {},
     "output_type": "execute_result"
    }
   ],
   "source": [
    "#1.21 Generating Random Values\n",
    "# Load library\n",
    "import numpy as np\n",
    "# Set seed\n",
    "np.random.seed(0)\n",
    "# Generate three random floats between 0.0 and 1.0\n",
    "np.random.random(3)"
   ]
  },
  {
   "cell_type": "code",
   "execution_count": 72,
   "id": "f38cf7ce-2af6-4b5a-826c-94fc0c77e1bc",
   "metadata": {},
   "outputs": [
    {
     "data": {
      "text/plain": [
       "array([3, 7, 9])"
      ]
     },
     "execution_count": 72,
     "metadata": {},
     "output_type": "execute_result"
    }
   ],
   "source": [
    "# Generate three random integers between 1 and 10\n",
    "np.random.randint(0,11,3)"
   ]
  },
  {
   "cell_type": "code",
   "execution_count": 73,
   "id": "e40b1279-be75-4693-8f53-38fff420e971",
   "metadata": {},
   "outputs": [
    {
     "data": {
      "text/plain": [
       "array([-1.42232584,  1.52006949, -0.29139398])"
      ]
     },
     "execution_count": 73,
     "metadata": {},
     "output_type": "execute_result"
    }
   ],
   "source": [
    "# Draw three numbers from a normal distribution with mean 0.0# and standard deviation of 1.0\n",
    "np.random.normal(0.0,1.0,3)\n"
   ]
  },
  {
   "cell_type": "code",
   "execution_count": 74,
   "id": "687057a4-a9f6-4edf-95c8-9aaeffd3b073",
   "metadata": {},
   "outputs": [
    {
     "data": {
      "text/plain": [
       "array([-0.98118713, -0.08939902,  1.46416405])"
      ]
     },
     "execution_count": 74,
     "metadata": {},
     "output_type": "execute_result"
    }
   ],
   "source": [
    "# Draw three numbers from a logistic distribution with mean 0.0 and scale of 1.0\n",
    "np.random.logistic(0.0,1.0,3)"
   ]
  },
  {
   "cell_type": "code",
   "execution_count": 75,
   "id": "8a8d68a7-b72b-4183-b92a-6156443c9ccb",
   "metadata": {},
   "outputs": [
    {
     "data": {
      "text/plain": [
       "array([1.47997717, 1.3927848 , 1.83607876])"
      ]
     },
     "execution_count": 75,
     "metadata": {},
     "output_type": "execute_result"
    }
   ],
   "source": [
    "# Draw three numbers greater than or equal to 1.0 and less than 2.0\n",
    "np.random.uniform(1.0,2.0,3)"
   ]
  }
 ],
 "metadata": {
  "kernelspec": {
   "display_name": "Python 3 (ipykernel)",
   "language": "python",
   "name": "python3"
  },
  "language_info": {
   "codemirror_mode": {
    "name": "ipython",
    "version": 3
   },
   "file_extension": ".py",
   "mimetype": "text/x-python",
   "name": "python",
   "nbconvert_exporter": "python",
   "pygments_lexer": "ipython3",
   "version": "3.9.13"
  }
 },
 "nbformat": 4,
 "nbformat_minor": 5
}
