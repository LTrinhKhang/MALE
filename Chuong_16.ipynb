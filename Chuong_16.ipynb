{
 "cells": [
  {
   "cell_type": "code",
   "execution_count": 2,
   "id": "894e6980-03f5-439d-b773-216aabc9aee2",
   "metadata": {},
   "outputs": [],
   "source": [
    "#16.1 Training a BinaryClassiﬁer\n",
    "# Load libraries\n",
    "from sklearn.linear_model import LogisticRegression\n",
    "from sklearn import datasets\n",
    "from sklearn.preprocessing import StandardScaler\n",
    "# Load data with only two classes\n",
    "iris=datasets.load_iris()\n",
    "features=iris.data[:100,:]\n",
    "target=iris.target[:100]\n",
    "# Standardize features\n",
    "scaler=StandardScaler()\n",
    "features_standardized=scaler.fit_transform(features)\n",
    "# Create logistic regression object\n",
    "logistic_regression=LogisticRegression(random_state=0)\n",
    "# Train model\n",
    "model=logistic_regression.fit(features_standardized,target)"
   ]
  },
  {
   "cell_type": "code",
   "execution_count": 3,
   "id": "e9b84350-cb2b-4cc2-a1e5-94c25f8b4330",
   "metadata": {},
   "outputs": [],
   "source": [
    "# Create new observation\n",
    "new_observation=[[.5,.5,.5,.5]]"
   ]
  },
  {
   "cell_type": "code",
   "execution_count": 4,
   "id": "de8e9236-abfb-4bd6-a465-92a2930c3a76",
   "metadata": {},
   "outputs": [
    {
     "data": {
      "text/plain": [
       "array([1])"
      ]
     },
     "execution_count": 4,
     "metadata": {},
     "output_type": "execute_result"
    }
   ],
   "source": [
    "# Predict class\n",
    "model.predict(new_observation)"
   ]
  },
  {
   "cell_type": "code",
   "execution_count": 5,
   "id": "19068e28-301b-41da-a366-379ef58cdab0",
   "metadata": {},
   "outputs": [
    {
     "data": {
      "text/plain": [
       "array([[0.17738424, 0.82261576]])"
      ]
     },
     "execution_count": 5,
     "metadata": {},
     "output_type": "execute_result"
    }
   ],
   "source": [
    "# View predicted probabilities\n",
    "model.predict_proba(new_observation)"
   ]
  },
  {
   "cell_type": "code",
   "execution_count": 6,
   "id": "e5ff9f32-6011-4540-b24e-ff9408825a77",
   "metadata": {},
   "outputs": [],
   "source": [
    "#16.2 Training a MulticlassClassiﬁer\n",
    "# Load libraries\n",
    "from sklearn.linear_model import LogisticRegression\n",
    "from sklearn import datasets\n",
    "from sklearn.preprocessing import StandardScaler\n",
    "# Load data\n",
    "iris=datasets.load_iris()\n",
    "features=iris.data\n",
    "target=iris.target\n",
    "# Standardize features\n",
    "scaler=StandardScaler()\n",
    "features_standardized=scaler.fit_transform(features)\n",
    "# Create one-vs-rest logistic regression object\n",
    "logistic_regression=LogisticRegression(random_state=0,multi_class=\"ovr\")\n",
    "# Train model\n",
    "model=logistic_regression.fit(features_standardized,target)"
   ]
  },
  {
   "cell_type": "code",
   "execution_count": 7,
   "id": "358ffcec-5a28-42a9-b9ef-6e507cb2d60b",
   "metadata": {},
   "outputs": [],
   "source": [
    "#16.3 Reducing Variance Through Regularization\n",
    "# Load libraries\n",
    "from sklearn.linear_model import LogisticRegressionCV\n",
    "from sklearn import datasets\n",
    "from sklearn.preprocessing import StandardScaler\n",
    "# Load data\n",
    "iris=datasets.load_iris()\n",
    "features=iris.data\n",
    "target=iris.target\n",
    "# Standardize features\n",
    "scaler=StandardScaler()\n",
    "features_standardized=scaler.fit_transform(features)\n",
    "# Create decision tree classifier object\n",
    "logistic_regression=LogisticRegressionCV(\n",
    "penalty='l2',Cs=10,random_state=0,n_jobs=-1)\n",
    "# Train model\n",
    "model=logistic_regression.fit(features_standardized,target)"
   ]
  },
  {
   "cell_type": "code",
   "execution_count": null,
   "id": "06ab1408-8047-417d-b87e-5d68584d0c05",
   "metadata": {},
   "outputs": [],
   "source": [
    "#16.4 Training aClassiﬁeron Very Large Data\n",
    "# Load libraries\n",
    "from sklearn.linear_model import LogisticRegression\n",
    "from sklearn import datasets\n",
    "from sklearn.preprocessing import StandardScaler\n",
    "# Load data\n",
    "iris=datasets.load_iris()\n",
    "features=iris.data\n",
    "target=iris.target\n",
    "# Standardize features\n",
    "scaler=StandardScaler()\n",
    "features_standardized=scaler.fit_transform(features)\n",
    "# Create logistic regression object\n",
    "logistic_regression=LogisticRegression(random_state=0,solver=\"sag\")\n",
    "# Train model\n",
    "model=logistic_regression.fit(features_standardized,target)"
   ]
  },
  {
   "cell_type": "code",
   "execution_count": 10,
   "id": "e5288045-71ff-4d65-bee1-a0c9b0f9d7b6",
   "metadata": {},
   "outputs": [],
   "source": [
    "#16.5 Handling Imbalanced Classes \n",
    "# Load libraries\n",
    "import numpy as np\n",
    "from sklearn.linear_model import LogisticRegression\n",
    "from sklearn import datasets\n",
    "from sklearn.preprocessing import StandardScaler\n",
    "# Load data\n",
    "iris=datasets.load_iris()\n",
    "features=iris.data\n",
    "target=iris.target\n",
    "# Make class highly imbalanced by removing first 40 observations\n",
    "features=features[40:,:]\n",
    "target=target[40:]\n",
    "# Create target vector indicating if class 0, otherwise 1\n",
    "target=np.where((target==0),0,1)\n",
    "# Standardize features\n",
    "scaler=StandardScaler()\n",
    "features_standardized=scaler.fit_transform(features)\n",
    "# Create decision tree classifier object\n",
    "logistic_regression=LogisticRegression(random_state=0,class_weight=\"balanced\")\n",
    "# Train model\n",
    "model=logistic_regression.fit(features_standardized,target)\n"
   ]
  }
 ],
 "metadata": {
  "kernelspec": {
   "display_name": "Python 3 (ipykernel)",
   "language": "python",
   "name": "python3"
  },
  "language_info": {
   "codemirror_mode": {
    "name": "ipython",
    "version": 3
   },
   "file_extension": ".py",
   "mimetype": "text/x-python",
   "name": "python",
   "nbconvert_exporter": "python",
   "pygments_lexer": "ipython3",
   "version": "3.9.13"
  }
 },
 "nbformat": 4,
 "nbformat_minor": 5
}
