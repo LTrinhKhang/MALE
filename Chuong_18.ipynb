{
 "cells": [
  {
   "cell_type": "code",
   "execution_count": 11,
   "id": "25b61633-582d-4285-98fa-0d0a1f8f7479",
   "metadata": {},
   "outputs": [],
   "source": [
    "#18.1 Training a Classifer for Continous Features\n",
    "# Load libraries\n",
    "from sklearn import datasets \n",
    "from sklearn.naive_bayes import GaussianNB \n",
    "\n",
    "# Load data \n",
    "iris = datasets.load_iris()\n",
    "features = iris.data\n",
    "target = iris.target \n",
    "\n",
    "# Create Gaussian Naive Bayes object \n",
    "classifier = GaussianNB()\n",
    "\n",
    "# Train model \n",
    "model = classifier.fit(features, target)\n",
    "\n",
    "\n"
   ]
  },
  {
   "cell_type": "code",
   "execution_count": 12,
   "id": "fd7e980c-ef95-4102-8e41-c85d67e56794",
   "metadata": {},
   "outputs": [
    {
     "data": {
      "text/plain": [
       "array([1])"
      ]
     },
     "execution_count": 12,
     "metadata": {},
     "output_type": "execute_result"
    }
   ],
   "source": [
    "# Create new observation\n",
    "new_observation = [[4, 4, 4, 0.4]]\n",
    "\n",
    "# Predict class\n",
    "model.predict(new_observation)\n"
   ]
  },
  {
   "cell_type": "code",
   "execution_count": 13,
   "id": "d00f5a47-83b1-49cb-ba40-031ad676766e",
   "metadata": {},
   "outputs": [],
   "source": [
    "# Create Gaussian Naive Bayes object with prior probabilities of each class\n",
    "clf = GaussianNB(priors=[0.25, 0.25, 0.5])\n",
    "\n",
    "# Train model\n",
    "model = clf.fit(features, target)\n"
   ]
  },
  {
   "cell_type": "code",
   "execution_count": 14,
   "id": "4e314b1b-1af7-4896-9245-ca43670b349e",
   "metadata": {},
   "outputs": [],
   "source": [
    "#18.2 Training a Classiﬁerfor Discrete and Count Features \n",
    "# Load libraries\n",
    "import numpy as np\n",
    "from sklearn.naive_bayes import MultinomialNB\n",
    "from sklearn.feature_extraction.text import CountVectorizer\n",
    "# Create text\n",
    "text_data=np.array(['I love Brazil. Brazil!','Brazil is best','Germany beats both'])\n",
    "# Create bag of words\n",
    "count=CountVectorizer()\n",
    "bag_of_words=count.fit_transform(text_data)\n",
    "# Create feature matrix\n",
    "features=bag_of_words.toarray()\n",
    "# Create target vector\n",
    "target=np.array([0,0,1])\n",
    "# Create multinomial naive Bayes object with prior probabilities of each class\n",
    "classifer=MultinomialNB(class_prior=[0.25,0.5])\n",
    "# Train model\n",
    "model=classifer.fit(features,target)"
   ]
  },
  {
   "cell_type": "code",
   "execution_count": 15,
   "id": "34ce45ad-de37-4cf9-9c44-54e68e8f836e",
   "metadata": {},
   "outputs": [
    {
     "data": {
      "text/plain": [
       "array([0])"
      ]
     },
     "execution_count": 15,
     "metadata": {},
     "output_type": "execute_result"
    }
   ],
   "source": [
    "# Create new observation\n",
    "new_observation=[[0,0,0,1,0,1,0]]\n",
    "# Predict new observation's class\n",
    "model.predict(new_observation)"
   ]
  },
  {
   "cell_type": "code",
   "execution_count": 16,
   "id": "8194716d-bc50-4705-a45a-0d1fa71b9bfb",
   "metadata": {},
   "outputs": [],
   "source": [
    "#18.3 Training a Naive BayesClassiﬁerfor Binary Features\n",
    "# Load libraries\n",
    "import numpy as np\n",
    "from sklearn.naive_bayes import BernoulliNB\n",
    "# Create three binary features\n",
    "features=np.random.randint(2,size=(100,3))\n",
    "# Create a binary target vector\n",
    "target=np.random.randint(2,size=(100,1)).ravel()\n",
    "# Create Bernoulli Naive Bayes object with prior probabilities of each class\n",
    "classifer=BernoulliNB(class_prior=[0.25,0.5])\n",
    "# Train model\n",
    "model=classifer.fit(features,target)"
   ]
  },
  {
   "cell_type": "code",
   "execution_count": 17,
   "id": "36cf2bc1-6b25-432f-9e3f-de12c087caa6",
   "metadata": {},
   "outputs": [],
   "source": [
    "model_uniform_prior=BernoulliNB(class_prior=None,fit_prior=True)"
   ]
  },
  {
   "cell_type": "code",
   "execution_count": 18,
   "id": "8c380c79-4473-42f6-ab88-667c49b29b0c",
   "metadata": {},
   "outputs": [
    {
     "data": {
      "text/plain": [
       "array([[0.31859969, 0.63663466, 0.04476565]])"
      ]
     },
     "execution_count": 18,
     "metadata": {},
     "output_type": "execute_result"
    }
   ],
   "source": [
    "#18.4 Calibrating Predicted Probabilities\n",
    "# Load libraries\n",
    "from sklearn import datasets\n",
    "from sklearn.naive_bayes import GaussianNB\n",
    "from sklearn.calibration import CalibratedClassifierCV\n",
    "# Load data\n",
    "iris=datasets.load_iris()\n",
    "features=iris.data\n",
    "target=iris.target\n",
    "# Create Gaussian Naive Bayes object\n",
    "classifer=GaussianNB()\n",
    "# Create calibrated cross-validation with sigmoid calibration\n",
    "classifer_sigmoid=CalibratedClassifierCV(classifer,cv=2,method='sigmoid')\n",
    "# Calibrate probabilities\n",
    "classifer_sigmoid.fit(features,target)\n",
    "# Create new observation\n",
    "new_observation=[[2.6,2.6,2.6,0.4]]\n",
    "# View calibrated probabilities\n",
    "classifer_sigmoid.predict_proba(new_observation)"
   ]
  },
  {
   "cell_type": "code",
   "execution_count": 19,
   "id": "8a9152ef-27a2-4e73-9866-1ecbfd81e0cf",
   "metadata": {},
   "outputs": [
    {
     "data": {
      "text/plain": [
       "array([[2.31548432e-04, 9.99768128e-01, 3.23532277e-07]])"
      ]
     },
     "execution_count": 19,
     "metadata": {},
     "output_type": "execute_result"
    }
   ],
   "source": [
    "# Train a Gaussian naive Bayes then predict class probabilities\n",
    "classifer.fit(features,target).predict_proba(new_observation)"
   ]
  },
  {
   "cell_type": "code",
   "execution_count": 20,
   "id": "31564dee-f7d8-48bd-ac2f-cb3087c1a47a",
   "metadata": {},
   "outputs": [
    {
     "data": {
      "text/plain": [
       "array([[0.31859969, 0.63663466, 0.04476565]])"
      ]
     },
     "execution_count": 20,
     "metadata": {},
     "output_type": "execute_result"
    }
   ],
   "source": [
    "# View calibrated probabilities\n",
    "classifer_sigmoid.predict_proba(new_observation)"
   ]
  },
  {
   "cell_type": "code",
   "execution_count": null,
   "id": "050c8dce-0114-4a9f-a34c-cce5a276204d",
   "metadata": {},
   "outputs": [],
   "source": []
  }
 ],
 "metadata": {
  "kernelspec": {
   "display_name": "Python 3 (ipykernel)",
   "language": "python",
   "name": "python3"
  },
  "language_info": {
   "codemirror_mode": {
    "name": "ipython",
    "version": 3
   },
   "file_extension": ".py",
   "mimetype": "text/x-python",
   "name": "python",
   "nbconvert_exporter": "python",
   "pygments_lexer": "ipython3",
   "version": "3.9.13"
  }
 },
 "nbformat": 4,
 "nbformat_minor": 5
}
